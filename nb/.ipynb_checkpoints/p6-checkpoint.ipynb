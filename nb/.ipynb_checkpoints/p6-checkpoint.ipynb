{
 "cells": [
  {
   "cell_type": "code",
   "execution_count": null,
   "id": "24f5c19f-bb2d-4359-96a2-b72461c6259e",
   "metadata": {},
   "outputs": [],
   "source": [
    "# Junhae Lee - jlee2294@wisc.edu / Gyuho Shim - gjshim@wisc.edu"
   ]
  },
  {
   "cell_type": "code",
   "execution_count": null,
   "id": "f2c5057d-81fa-4c03-a63f-659e9296986f",
   "metadata": {},
   "outputs": [],
   "source": [
    "# We got help from Microsoft Bing Chat\n",
    "# Also, from Piazza, @640, 691,702 "
   ]
  },
  {
   "cell_type": "code",
   "execution_count": 4,
   "id": "cad81a6d-1fed-499c-9c95-fb69e89a7f27",
   "metadata": {},
   "outputs": [
    {
     "name": "stdout",
     "output_type": "stream",
     "text": [
      "Datacenter: datacenter1\n",
      "=======================\n",
      "Status=Up/Down\n",
      "|/ State=Normal/Leaving/Joining/Moving\n",
      "--  Address       Load        Tokens  Owns (effective)  Host ID                               Rack \n",
      "UN  192.168.32.2  25.55 KiB   16      73.7%             4b1ad2cf-72ce-406f-99b6-aa3e2c96e3b5  rack1\n",
      "UN  192.168.32.4  25.55 KiB   16      59.5%             4c36c687-166a-48a7-ad61-d4ade224fc0f  rack1\n",
      "UN  192.168.32.3  224.41 KiB  16      66.8%             c18b0314-2335-41a1-8565-8a1cdb026786  rack1\n",
      "\n"
     ]
    }
   ],
   "source": [
    "!nodetool status"
   ]
  },
  {
   "cell_type": "code",
   "execution_count": null,
   "id": "9a2a8b7a-f836-4320-bc75-d88841f905ce",
   "metadata": {},
   "outputs": [],
   "source": []
  },
  {
   "cell_type": "code",
   "execution_count": 5,
   "id": "03a20b2c-e91a-43ec-b803-5ab403442b99",
   "metadata": {},
   "outputs": [],
   "source": [
    "#Connect to the Cassandra cluster\n",
    "from cassandra.cluster import Cluster\n",
    "cluster = Cluster(['p6-db-1', 'p6-db-2', 'p6-db-3'])\n",
    "cass = cluster.connect()"
   ]
  },
  {
   "cell_type": "code",
   "execution_count": 6,
   "id": "3d45fbfa-9090-4390-aede-7cd3289acfb9",
   "metadata": {},
   "outputs": [
    {
     "name": "stdout",
     "output_type": "stream",
     "text": [
      "CREATE TABLE weather.stations (\n",
      "    id text,\n",
      "    date date,\n",
      "    name text static,\n",
      "    record station_record,\n",
      "    PRIMARY KEY (id, date)\n",
      ") WITH CLUSTERING ORDER BY (date ASC)\n",
      "    AND additional_write_policy = '99p'\n",
      "    AND bloom_filter_fp_chance = 0.01\n",
      "    AND caching = {'keys': 'ALL', 'rows_per_partition': 'NONE'}\n",
      "    AND cdc = false\n",
      "    AND comment = ''\n",
      "    AND compaction = {'class': 'org.apache.cassandra.db.compaction.SizeTieredCompactionStrategy', 'max_threshold': '32', 'min_threshold': '4'}\n",
      "    AND compression = {'chunk_length_in_kb': '16', 'class': 'org.apache.cassandra.io.compress.LZ4Compressor'}\n",
      "    AND memtable = 'default'\n",
      "    AND crc_check_chance = 1.0\n",
      "    AND default_time_to_live = 0\n",
      "    AND extensions = {}\n",
      "    AND gc_grace_seconds = 864000\n",
      "    AND max_index_interval = 2048\n",
      "    AND memtable_flush_period_in_ms = 0\n",
      "    AND min_index_interval = 128\n",
      "    AND read_repair = 'BLOCKING'\n",
      "    AND speculative_retry = '99p';\n"
     ]
    }
   ],
   "source": [
    "#q1\n",
    "from cassandra.query import SimpleStatement\n",
    "\n",
    "cluster = Cluster(['p6-db-1', 'p6-db-2', 'p6-db-3'])\n",
    "cass = cluster.connect()\n",
    "\n",
    "cass.execute(\"DROP KEYSPACE IF EXISTS weather\")\n",
    "\n",
    "cass.execute(\"\"\"\n",
    "    CREATE KEYSPACE weather \n",
    "    WITH replication = {'class': 'SimpleStrategy', 'replication_factor': '3'}\n",
    "\"\"\")\n",
    "\n",
    "cass.set_keyspace('weather')\n",
    "\n",
    "cass.execute(\"\"\"\n",
    "    CREATE TYPE station_record (\n",
    "        tmin int,\n",
    "        tmax int\n",
    "    )\n",
    "\"\"\")\n",
    "\n",
    "cass.execute(\"\"\"\n",
    "    CREATE TABLE stations (\n",
    "        id text,\n",
    "        name text static,\n",
    "        date date,\n",
    "        record station_record,\n",
    "        PRIMARY KEY (id, date)\n",
    "    ) WITH CLUSTERING ORDER BY (date ASC)\n",
    "\"\"\")\n",
    "\n",
    "print(cass.execute(\"describe table weather.stations \").one().create_statement)"
   ]
  },
  {
   "cell_type": "code",
   "execution_count": 7,
   "id": "5c14cbff-ca2d-47d4-88fa-52dd1125fd3c",
   "metadata": {
    "scrolled": true
   },
   "outputs": [
    {
     "name": "stdout",
     "output_type": "stream",
     "text": [
      ":: loading settings :: url = jar:file:/usr/local/lib/python3.10/dist-packages/pyspark/jars/ivy-2.5.1.jar!/org/apache/ivy/core/settings/ivysettings.xml\n"
     ]
    },
    {
     "name": "stderr",
     "output_type": "stream",
     "text": [
      "Ivy Default Cache set to: /root/.ivy2/cache\n",
      "The jars for the packages stored in: /root/.ivy2/jars\n",
      "com.datastax.spark#spark-cassandra-connector_2.12 added as a dependency\n",
      ":: resolving dependencies :: org.apache.spark#spark-submit-parent-5fd7db93-f7a2-405e-b143-036ad1929f3e;1.0\n",
      "\tconfs: [default]\n",
      "\tfound com.datastax.spark#spark-cassandra-connector_2.12;3.4.0 in central\n",
      "\tfound com.datastax.spark#spark-cassandra-connector-driver_2.12;3.4.0 in central\n",
      "\tfound com.datastax.oss#java-driver-core-shaded;4.13.0 in central\n",
      "\tfound com.datastax.oss#native-protocol;1.5.0 in central\n",
      "\tfound com.datastax.oss#java-driver-shaded-guava;25.1-jre-graal-sub-1 in central\n",
      "\tfound com.typesafe#config;1.4.1 in central\n",
      "\tfound org.slf4j#slf4j-api;1.7.26 in central\n",
      "\tfound io.dropwizard.metrics#metrics-core;4.1.18 in central\n",
      "\tfound org.hdrhistogram#HdrHistogram;2.1.12 in central\n",
      "\tfound org.reactivestreams#reactive-streams;1.0.3 in central\n",
      "\tfound com.github.stephenc.jcip#jcip-annotations;1.0-1 in central\n",
      "\tfound com.github.spotbugs#spotbugs-annotations;3.1.12 in central\n",
      "\tfound com.google.code.findbugs#jsr305;3.0.2 in central\n",
      "\tfound com.datastax.oss#java-driver-mapper-runtime;4.13.0 in central\n",
      "\tfound com.datastax.oss#java-driver-query-builder;4.13.0 in central\n",
      "\tfound org.apache.commons#commons-lang3;3.10 in central\n",
      "\tfound com.thoughtworks.paranamer#paranamer;2.8 in central\n",
      "\tfound org.scala-lang#scala-reflect;2.12.11 in central\n",
      "downloading https://repo1.maven.org/maven2/com/datastax/spark/spark-cassandra-connector_2.12/3.4.0/spark-cassandra-connector_2.12-3.4.0.jar ...\n",
      "\t[SUCCESSFUL ] com.datastax.spark#spark-cassandra-connector_2.12;3.4.0!spark-cassandra-connector_2.12.jar (144ms)\n",
      "downloading https://repo1.maven.org/maven2/com/datastax/spark/spark-cassandra-connector-driver_2.12/3.4.0/spark-cassandra-connector-driver_2.12-3.4.0.jar ...\n",
      "\t[SUCCESSFUL ] com.datastax.spark#spark-cassandra-connector-driver_2.12;3.4.0!spark-cassandra-connector-driver_2.12.jar (114ms)\n",
      "downloading https://repo1.maven.org/maven2/com/datastax/oss/java-driver-core-shaded/4.13.0/java-driver-core-shaded-4.13.0.jar ...\n",
      "\t[SUCCESSFUL ] com.datastax.oss#java-driver-core-shaded;4.13.0!java-driver-core-shaded.jar (360ms)\n",
      "downloading https://repo1.maven.org/maven2/com/datastax/oss/java-driver-mapper-runtime/4.13.0/java-driver-mapper-runtime-4.13.0.jar ...\n",
      "\t[SUCCESSFUL ] com.datastax.oss#java-driver-mapper-runtime;4.13.0!java-driver-mapper-runtime.jar(bundle) (35ms)\n",
      "downloading https://repo1.maven.org/maven2/org/apache/commons/commons-lang3/3.10/commons-lang3-3.10.jar ...\n",
      "\t[SUCCESSFUL ] org.apache.commons#commons-lang3;3.10!commons-lang3.jar (59ms)\n",
      "downloading https://repo1.maven.org/maven2/com/thoughtworks/paranamer/paranamer/2.8/paranamer-2.8.jar ...\n",
      "\t[SUCCESSFUL ] com.thoughtworks.paranamer#paranamer;2.8!paranamer.jar(bundle) (28ms)\n",
      "downloading https://repo1.maven.org/maven2/org/scala-lang/scala-reflect/2.12.11/scala-reflect-2.12.11.jar ...\n",
      "\t[SUCCESSFUL ] org.scala-lang#scala-reflect;2.12.11!scala-reflect.jar (155ms)\n",
      "downloading https://repo1.maven.org/maven2/com/datastax/oss/native-protocol/1.5.0/native-protocol-1.5.0.jar ...\n",
      "\t[SUCCESSFUL ] com.datastax.oss#native-protocol;1.5.0!native-protocol.jar(bundle) (41ms)\n",
      "downloading https://repo1.maven.org/maven2/com/datastax/oss/java-driver-shaded-guava/25.1-jre-graal-sub-1/java-driver-shaded-guava-25.1-jre-graal-sub-1.jar ...\n",
      "\t[SUCCESSFUL ] com.datastax.oss#java-driver-shaded-guava;25.1-jre-graal-sub-1!java-driver-shaded-guava.jar (96ms)\n",
      "downloading https://repo1.maven.org/maven2/com/typesafe/config/1.4.1/config-1.4.1.jar ...\n",
      "\t[SUCCESSFUL ] com.typesafe#config;1.4.1!config.jar(bundle) (31ms)\n",
      "downloading https://repo1.maven.org/maven2/org/slf4j/slf4j-api/1.7.26/slf4j-api-1.7.26.jar ...\n",
      "\t[SUCCESSFUL ] org.slf4j#slf4j-api;1.7.26!slf4j-api.jar (27ms)\n",
      "downloading https://repo1.maven.org/maven2/io/dropwizard/metrics/metrics-core/4.1.18/metrics-core-4.1.18.jar ...\n",
      "\t[SUCCESSFUL ] io.dropwizard.metrics#metrics-core;4.1.18!metrics-core.jar(bundle) (29ms)\n",
      "downloading https://repo1.maven.org/maven2/org/hdrhistogram/HdrHistogram/2.1.12/HdrHistogram-2.1.12.jar ...\n",
      "\t[SUCCESSFUL ] org.hdrhistogram#HdrHistogram;2.1.12!HdrHistogram.jar(bundle) (31ms)\n",
      "downloading https://repo1.maven.org/maven2/org/reactivestreams/reactive-streams/1.0.3/reactive-streams-1.0.3.jar ...\n",
      "\t[SUCCESSFUL ] org.reactivestreams#reactive-streams;1.0.3!reactive-streams.jar (25ms)\n",
      "downloading https://repo1.maven.org/maven2/com/github/stephenc/jcip/jcip-annotations/1.0-1/jcip-annotations-1.0-1.jar ...\n",
      "\t[SUCCESSFUL ] com.github.stephenc.jcip#jcip-annotations;1.0-1!jcip-annotations.jar (26ms)\n",
      "downloading https://repo1.maven.org/maven2/com/github/spotbugs/spotbugs-annotations/3.1.12/spotbugs-annotations-3.1.12.jar ...\n",
      "\t[SUCCESSFUL ] com.github.spotbugs#spotbugs-annotations;3.1.12!spotbugs-annotations.jar (27ms)\n",
      "downloading https://repo1.maven.org/maven2/com/google/code/findbugs/jsr305/3.0.2/jsr305-3.0.2.jar ...\n",
      "\t[SUCCESSFUL ] com.google.code.findbugs#jsr305;3.0.2!jsr305.jar (30ms)\n",
      "downloading https://repo1.maven.org/maven2/com/datastax/oss/java-driver-query-builder/4.13.0/java-driver-query-builder-4.13.0.jar ...\n",
      "\t[SUCCESSFUL ] com.datastax.oss#java-driver-query-builder;4.13.0!java-driver-query-builder.jar(bundle) (34ms)\n",
      ":: resolution report :: resolve 5292ms :: artifacts dl 1334ms\n",
      "\t:: modules in use:\n",
      "\tcom.datastax.oss#java-driver-core-shaded;4.13.0 from central in [default]\n",
      "\tcom.datastax.oss#java-driver-mapper-runtime;4.13.0 from central in [default]\n",
      "\tcom.datastax.oss#java-driver-query-builder;4.13.0 from central in [default]\n",
      "\tcom.datastax.oss#java-driver-shaded-guava;25.1-jre-graal-sub-1 from central in [default]\n",
      "\tcom.datastax.oss#native-protocol;1.5.0 from central in [default]\n",
      "\tcom.datastax.spark#spark-cassandra-connector-driver_2.12;3.4.0 from central in [default]\n",
      "\tcom.datastax.spark#spark-cassandra-connector_2.12;3.4.0 from central in [default]\n",
      "\tcom.github.spotbugs#spotbugs-annotations;3.1.12 from central in [default]\n",
      "\tcom.github.stephenc.jcip#jcip-annotations;1.0-1 from central in [default]\n",
      "\tcom.google.code.findbugs#jsr305;3.0.2 from central in [default]\n",
      "\tcom.thoughtworks.paranamer#paranamer;2.8 from central in [default]\n",
      "\tcom.typesafe#config;1.4.1 from central in [default]\n",
      "\tio.dropwizard.metrics#metrics-core;4.1.18 from central in [default]\n",
      "\torg.apache.commons#commons-lang3;3.10 from central in [default]\n",
      "\torg.hdrhistogram#HdrHistogram;2.1.12 from central in [default]\n",
      "\torg.reactivestreams#reactive-streams;1.0.3 from central in [default]\n",
      "\torg.scala-lang#scala-reflect;2.12.11 from central in [default]\n",
      "\torg.slf4j#slf4j-api;1.7.26 from central in [default]\n",
      "\t---------------------------------------------------------------------\n",
      "\t|                  |            modules            ||   artifacts   |\n",
      "\t|       conf       | number| search|dwnlded|evicted|| number|dwnlded|\n",
      "\t---------------------------------------------------------------------\n",
      "\t|      default     |   18  |   18  |   18  |   0   ||   18  |   18  |\n",
      "\t---------------------------------------------------------------------\n",
      ":: retrieving :: org.apache.spark#spark-submit-parent-5fd7db93-f7a2-405e-b143-036ad1929f3e\n",
      "\tconfs: [default]\n",
      "\t18 artifacts copied, 0 already retrieved (18067kB/63ms)\n",
      "23/11/27 18:07:17 WARN NativeCodeLoader: Unable to load native-hadoop library for your platform... using builtin-java classes where applicable\n",
      "Setting default log level to \"WARN\".\n",
      "To adjust logging level use sc.setLogLevel(newLevel). For SparkR, use setLogLevel(newLevel).\n"
     ]
    }
   ],
   "source": [
    "from pyspark.sql import SparkSession\n",
    "spark = (SparkSession.builder\n",
    "         .appName(\"p6\")\n",
    "         .config('spark.jars.packages', 'com.datastax.spark:spark-cassandra-connector_2.12:3.4.0')\n",
    "         .config(\"spark.sql.extensions\", \"com.datastax.spark.connector.CassandraSparkExtensions\")\n",
    "         .getOrCreate())"
   ]
  },
  {
   "cell_type": "code",
   "execution_count": 8,
   "id": "38c0e3fe-3ad3-49e8-b1be-ae0e4d8194a7",
   "metadata": {},
   "outputs": [
    {
     "name": "stderr",
     "output_type": "stream",
     "text": [
      "                                                                                \r"
     ]
    }
   ],
   "source": [
    "from pyspark.sql.functions import substring\n",
    "\n",
    "spark = (SparkSession.builder\n",
    "         .appName(\"p6\")\n",
    "         .config('spark.jars.packages', 'com.datastax.spark:spark-cassandra-connector_2.12:3.4.0')\n",
    "         .config(\"spark.sql.extensions\", \"com.datastax.spark.connector.CassandraSparkExtensions\")\n",
    "         .getOrCreate())\n",
    "\n",
    "stations = spark.read.text(\"ghcnd-stations.txt\")\n",
    "\n",
    "stations = stations.select(\n",
    "    substring(stations['value'], 1, 11).alias('id'),\n",
    "    substring(stations['value'], 39, 2).alias('state'),\n",
    "    substring(stations['value'], 42, 30).alias('name')\n",
    ")\n",
    "\n",
    "stations = stations.filter(stations['state'] == 'WI')\n",
    "\n",
    "for row in stations.collect():\n",
    "    cass.execute(\n",
    "        \"\"\"\n",
    "        INSERT INTO stations (id, name)\n",
    "        VALUES (%s, %s)\n",
    "        \"\"\",\n",
    "        (row['id'], row['name'])\n",
    "    )"
   ]
  },
  {
   "cell_type": "code",
   "execution_count": 9,
   "id": "3d4ba10d-08c5-4e98-b95b-86cde5e0cce9",
   "metadata": {},
   "outputs": [
    {
     "name": "stdout",
     "output_type": "stream",
     "text": [
      "1313\n"
     ]
    }
   ],
   "source": [
    "rows = cass.execute(\"SELECT COUNT(*) FROM weather.stations\")\n",
    "\n",
    "for row in rows:\n",
    "    print(row[0])"
   ]
  },
  {
   "cell_type": "code",
   "execution_count": 10,
   "id": "748c6acf-3a0e-4247-85f6-73e09d4e1da7",
   "metadata": {},
   "outputs": [
    {
     "name": "stdout",
     "output_type": "stream",
     "text": [
      "MADISON DANE CO RGNL AP       \n"
     ]
    }
   ],
   "source": [
    "#q2\n",
    "rows = cass.execute(\"SELECT name FROM stations WHERE id = 'USW00014837'\")\n",
    "\n",
    "for row in rows:\n",
    "    print(row.name)"
   ]
  },
  {
   "cell_type": "code",
   "execution_count": 11,
   "id": "9b03d9d1-8142-4b66-aad7-329ad064b966",
   "metadata": {},
   "outputs": [
    {
     "name": "stdout",
     "output_type": "stream",
     "text": [
      "-9014250178872933741\n"
     ]
    }
   ],
   "source": [
    "#q3\n",
    "rows = cass.execute(\"SELECT TOKEN(id) FROM stations WHERE id = 'USC00470273'\")\n",
    "\n",
    "for row in rows:\n",
    "    print(row[0])"
   ]
  },
  {
   "cell_type": "code",
   "execution_count": 12,
   "id": "81fcac1e-12b9-412a-87cc-42a1dc1a3010",
   "metadata": {},
   "outputs": [
    {
     "name": "stderr",
     "output_type": "stream",
     "text": [
      "/tmp/ipykernel_141/1313732839.py:2: DeprecationWarning: ResultSet indexing support will be removed in 4.0. Consider using ResultSet.one() to get a single row.\n",
      "  usc_token = rows[0][0]\n"
     ]
    }
   ],
   "source": [
    "rows = cass.execute(\"SELECT TOKEN(id) FROM stations WHERE id = 'USC00470273'\")\n",
    "usc_token = rows[0][0]"
   ]
  },
  {
   "cell_type": "code",
   "execution_count": 13,
   "id": "43cd97e7-8ba9-4d9c-baa2-3ffb8c59aeff",
   "metadata": {},
   "outputs": [
    {
     "data": {
      "text/plain": [
       "-9014250178872933741"
      ]
     },
     "execution_count": 13,
     "metadata": {},
     "output_type": "execute_result"
    }
   ],
   "source": [
    "usc_token"
   ]
  },
  {
   "cell_type": "code",
   "execution_count": 14,
   "id": "27b039a9-3c75-4e9b-8ba3-d76684eef3c1",
   "metadata": {},
   "outputs": [
    {
     "data": {
      "text/plain": [
       "-8877426185017732355"
      ]
     },
     "execution_count": 14,
     "metadata": {},
     "output_type": "execute_result"
    }
   ],
   "source": [
    "#q4\n",
    "import subprocess\n",
    "\n",
    "# Get the token for USC00470273\n",
    "rows = cass.execute(\"SELECT TOKEN(id) FROM stations WHERE id = 'USC00470273'\")\n",
    "usc_token = rows.one()[0]\n",
    "\n",
    "# Run nodetool ring\n",
    "output = subprocess.check_output([\"nodetool\", \"ring\"]).decode()\n",
    "\n",
    "# Parse the output\n",
    "lines = output.split(\"\\n\")[4:-1]  # Remove the header and footer\n",
    "\n",
    "# Extract valid tokens from the lines\n",
    "tokens = []\n",
    "for line in lines:\n",
    "    split_line = line.split()\n",
    "    if len(split_line) > 7:\n",
    "        token_str = split_line[7]\n",
    "        try:\n",
    "            token = int(token_str)\n",
    "            tokens.append(token)\n",
    "        except ValueError:\n",
    "            continue\n",
    "# Sort the tokens\n",
    "tokens.sort()\n",
    "\n",
    "# Find the token that comes after the token for USC00470273\n",
    "next_token = None\n",
    "for token in tokens:\n",
    "    if token >= usc_token:\n",
    "        next_token = token\n",
    "        break\n",
    "\n",
    "# Handle the case where the ring \"wraps around\"\n",
    "if next_token is None and tokens:\n",
    "    next_token = tokens[0]\n",
    "\n",
    "next_token\n"
   ]
  },
  {
   "cell_type": "code",
   "execution_count": 15,
   "id": "95031c07-4181-4018-befa-c4defc6a01fb",
   "metadata": {},
   "outputs": [],
   "source": [
    "#!unzip records.zip"
   ]
  },
  {
   "cell_type": "code",
   "execution_count": 15,
   "id": "0845c093-b84f-4bdc-ade3-ecbf98bcdf27",
   "metadata": {},
   "outputs": [
    {
     "name": "stderr",
     "output_type": "stream",
     "text": [
      "23/11/27 18:08:53 WARN SparkSession: Using an existing Spark session; only runtime SQL configurations will take effect.\n",
      "[Stage 2:>                                                          (0 + 1) / 1]\r"
     ]
    },
    {
     "name": "stdout",
     "output_type": "stream",
     "text": [
      "+-----------+--------+-------+------+\n",
      "|    station|    date|element| value|\n",
      "+-----------+--------+-------+------+\n",
      "|USW00014898|20220101|   TMAX| -32.0|\n",
      "|USW00014898|20220102|   TMAX| -77.0|\n",
      "|USW00014898|20220103|   TMAX| -60.0|\n",
      "|USW00014898|20220104|   TMAX|   0.0|\n",
      "|USW00014898|20220105|   TMAX| -16.0|\n",
      "|USW00014898|20220106|   TMAX| -71.0|\n",
      "|USW00014898|20220107|   TMAX| -71.0|\n",
      "|USW00014898|20220108|   TMAX| -32.0|\n",
      "|USW00014898|20220109|   TMAX| -27.0|\n",
      "|USW00014898|20220110|   TMAX|-149.0|\n",
      "|USW00014898|20220111|   TMAX| -16.0|\n",
      "|USW00014898|20220112|   TMAX|   6.0|\n",
      "|USW00014898|20220113|   TMAX|  11.0|\n",
      "|USW00014898|20220114|   TMAX| -77.0|\n",
      "|USW00014898|20220115|   TMAX| -99.0|\n",
      "|USW00014898|20220116|   TMAX| -60.0|\n",
      "|USW00014898|20220117|   TMAX| -21.0|\n",
      "|USW00014898|20220118|   TMAX|  28.0|\n",
      "|USW00014898|20220119|   TMAX|  28.0|\n",
      "|USW00014898|20220120|   TMAX|-121.0|\n",
      "+-----------+--------+-------+------+\n",
      "only showing top 20 rows\n",
      "\n"
     ]
    },
    {
     "name": "stderr",
     "output_type": "stream",
     "text": [
      "                                                                                \r"
     ]
    }
   ],
   "source": [
    "spark = SparkSession.builder.appName(\"WeatherDataProcessing\").getOrCreate()\n",
    "\n",
    "# Assuming records.parquet is the path to your Parquet files\n",
    "parquet_path = \"records.parquet\"\n",
    "df = spark.read.parquet(parquet_path)\n",
    "df.show()"
   ]
  },
  {
   "cell_type": "code",
   "execution_count": 16,
   "id": "f51540dc-08f3-410a-8b70-767f0b4220fb",
   "metadata": {},
   "outputs": [
    {
     "data": {
      "text/plain": [
       "['station', 'date', 'element', 'value']"
      ]
     },
     "execution_count": 16,
     "metadata": {},
     "output_type": "execute_result"
    }
   ],
   "source": [
    "df.columns"
   ]
  },
  {
   "cell_type": "code",
   "execution_count": 17,
   "id": "df67fb3d-a164-4672-ab6a-7a2e4f8ca9ae",
   "metadata": {},
   "outputs": [
    {
     "name": "stderr",
     "output_type": "stream",
     "text": [
      "23/11/27 18:09:08 WARN package: Truncated the string representation of a plan since it was too large. This behavior can be adjusted by setting 'spark.sql.debug.maxToStringFields'.\n",
      "                                                                                \r"
     ]
    },
    {
     "name": "stdout",
     "output_type": "stream",
     "text": [
      "+-----------+--------+------+------+\n",
      "|    station|    date|  TMIN|  TMAX|\n",
      "+-----------+--------+------+------+\n",
      "|USW00014898|20220107|-166.0| -71.0|\n",
      "|USW00014839|20220924| 117.0| 194.0|\n",
      "|USW00014839|20220523|  83.0| 150.0|\n",
      "|USW00014839|20221019|  11.0|  83.0|\n",
      "|USW00014839|20220529| 139.0| 261.0|\n",
      "|USR0000WDDG|20221130|-106.0| -39.0|\n",
      "|USR0000WDDG|20220119|-178.0| -56.0|\n",
      "|USW00014837|20220222| -88.0| -38.0|\n",
      "|USR0000WDDG|20220202|-150.0|-106.0|\n",
      "|USW00014839|20220427|   0.0|  39.0|\n",
      "|USW00014839|20220708| 189.0| 222.0|\n",
      "|USW00014839|20220917| 200.0| 294.0|\n",
      "|USW00014837|20220624| 200.0| 322.0|\n",
      "|USW00014898|20220129|-116.0| -60.0|\n",
      "|USW00014839|20220715| 156.0| 233.0|\n",
      "|USR0000WDDG|20220224|-128.0| -61.0|\n",
      "|USR0000WDDG|20220130|-117.0| -33.0|\n",
      "|USR0000WDDG|20220414| -17.0|  50.0|\n",
      "|USW00014898|20220728| 156.0| 256.0|\n",
      "|USW00014837|20220906| 117.0| 256.0|\n",
      "+-----------+--------+------+------+\n",
      "only showing top 20 rows\n",
      "\n"
     ]
    },
    {
     "name": "stderr",
     "output_type": "stream",
     "text": [
      "                                                                                \r"
     ]
    }
   ],
   "source": [
    "pivoted_df = df.groupBy(\"station\", \"date\").pivot(\"element\").agg({\"value\": \"first\"})\n",
    "\n",
    "# Rename the columns to remove the 'value_' prefix\n",
    "pivoted_df = pivoted_df.withColumnRenamed(\"value_tmin\", \"TMIN\").withColumnRenamed(\"value_tmax\", \"TMAX\")\n",
    "\n",
    "# Select relevant columns\n",
    "result_df = pivoted_df.select(\"station\", \"date\", \"TMIN\", \"TMAX\")\n",
    "\n",
    "# Show the resulting DataFrame\n",
    "result_df.show()\n",
    "\n",
    "# Save the rearranged DataFrame to a new Parquet file if needed\n",
    "result_df.write.parquet(\"path/to/rearranged_data.parquet\", mode=\"overwrite\")"
   ]
  },
  {
   "cell_type": "code",
   "execution_count": 18,
   "id": "d12e7e14-0335-4ba7-b565-5f83978967c1",
   "metadata": {},
   "outputs": [],
   "source": [
    "import grpc\n",
    "import station_pb2\n",
    "import station_pb2_grpc\n",
    "\n",
    "# Open a gRPC channel\n",
    "channel = grpc.insecure_channel('localhost:5440')\n",
    "\n",
    "# Create a stub (client)\n",
    "stub = station_pb2_grpc.StationStub(channel)\n"
   ]
  },
  {
   "cell_type": "code",
   "execution_count": 21,
   "id": "8fc45ed3-a57f-4924-adfd-7ffb20258907",
   "metadata": {},
   "outputs": [
    {
     "data": {
      "text/plain": [
       "-166.0"
      ]
     },
     "execution_count": 21,
     "metadata": {},
     "output_type": "execute_result"
    }
   ],
   "source": [
    "result_df.collect()[0].TMIN"
   ]
  },
  {
   "cell_type": "code",
   "execution_count": 23,
   "id": "11e67def-3a55-43d1-91e9-b04d1cbe5174",
   "metadata": {},
   "outputs": [
    {
     "data": {
      "text/plain": [
       "356"
      ]
     },
     "execution_count": 23,
     "metadata": {},
     "output_type": "execute_result"
    }
   ],
   "source": [
    "#q5\n",
    "import grpc\n",
    "import station_pb2\n",
    "import station_pb2_grpc\n",
    "\n",
    "# Open a gRPC channel\n",
    "channel = grpc.insecure_channel('localhost:5440')\n",
    "\n",
    "# Create a stub (client)\n",
    "stub = station_pb2_grpc.StationStub(channel)\n",
    "\n",
    "res_col = result_df.collect()\n",
    "\n",
    "for result_row in res_col:\n",
    "    # print(result_row.station)\n",
    "    res=stub.RecordTemps(station_pb2.RecordTempsRequest(\n",
    "        station=result_row.station,\n",
    "        date=str(result_row.date),\n",
    "        tmin=int(result_row.TMIN),\n",
    "        tmax=int(result_row.TMAX)\n",
    "    ))\n",
    "\n",
    "# Create a valid request message\n",
    "station_max_request = station_pb2.StationMaxRequest(station='USW00014837')\n",
    "\n",
    "# Make the call\n",
    "response = stub.StationMax(station_max_request)\n",
    "\n",
    "response.tmax\n"
   ]
  },
  {
   "cell_type": "code",
   "execution_count": 24,
   "id": "ef23c675-8d05-4ded-b0a3-851cf51887ac",
   "metadata": {},
   "outputs": [
    {
     "data": {
      "text/html": [
       "<div>\n",
       "<style scoped>\n",
       "    .dataframe tbody tr th:only-of-type {\n",
       "        vertical-align: middle;\n",
       "    }\n",
       "\n",
       "    .dataframe tbody tr th {\n",
       "        vertical-align: top;\n",
       "    }\n",
       "\n",
       "    .dataframe thead th {\n",
       "        text-align: right;\n",
       "    }\n",
       "</style>\n",
       "<table border=\"1\" class=\"dataframe\">\n",
       "  <thead>\n",
       "    <tr style=\"text-align: right;\">\n",
       "      <th></th>\n",
       "      <th>id</th>\n",
       "      <th>date</th>\n",
       "      <th>name</th>\n",
       "      <th>record</th>\n",
       "    </tr>\n",
       "  </thead>\n",
       "  <tbody>\n",
       "    <tr>\n",
       "      <th>0</th>\n",
       "      <td>USW00014898</td>\n",
       "      <td>2022-01-01</td>\n",
       "      <td>GREEN BAY</td>\n",
       "      <td>(-110, -32)</td>\n",
       "    </tr>\n",
       "    <tr>\n",
       "      <th>1</th>\n",
       "      <td>USW00014898</td>\n",
       "      <td>2022-01-02</td>\n",
       "      <td>GREEN BAY</td>\n",
       "      <td>(-166, -77)</td>\n",
       "    </tr>\n",
       "    <tr>\n",
       "      <th>2</th>\n",
       "      <td>USW00014898</td>\n",
       "      <td>2022-01-03</td>\n",
       "      <td>GREEN BAY</td>\n",
       "      <td>(-171, -60)</td>\n",
       "    </tr>\n",
       "    <tr>\n",
       "      <th>3</th>\n",
       "      <td>USW00014898</td>\n",
       "      <td>2022-01-04</td>\n",
       "      <td>GREEN BAY</td>\n",
       "      <td>(-116, 0)</td>\n",
       "    </tr>\n",
       "    <tr>\n",
       "      <th>4</th>\n",
       "      <td>USW00014898</td>\n",
       "      <td>2022-01-05</td>\n",
       "      <td>GREEN BAY</td>\n",
       "      <td>(-88, -16)</td>\n",
       "    </tr>\n",
       "    <tr>\n",
       "      <th>...</th>\n",
       "      <td>...</td>\n",
       "      <td>...</td>\n",
       "      <td>...</td>\n",
       "      <td>...</td>\n",
       "    </tr>\n",
       "    <tr>\n",
       "      <th>360</th>\n",
       "      <td>USW00014898</td>\n",
       "      <td>2022-12-27</td>\n",
       "      <td>GREEN BAY</td>\n",
       "      <td>(-172, -50)</td>\n",
       "    </tr>\n",
       "    <tr>\n",
       "      <th>361</th>\n",
       "      <td>USW00014898</td>\n",
       "      <td>2022-12-28</td>\n",
       "      <td>GREEN BAY</td>\n",
       "      <td>(-50, 50)</td>\n",
       "    </tr>\n",
       "    <tr>\n",
       "      <th>362</th>\n",
       "      <td>USW00014898</td>\n",
       "      <td>2022-12-29</td>\n",
       "      <td>GREEN BAY</td>\n",
       "      <td>(33, 106)</td>\n",
       "    </tr>\n",
       "    <tr>\n",
       "      <th>363</th>\n",
       "      <td>USW00014898</td>\n",
       "      <td>2022-12-30</td>\n",
       "      <td>GREEN BAY</td>\n",
       "      <td>(-39, 100)</td>\n",
       "    </tr>\n",
       "    <tr>\n",
       "      <th>364</th>\n",
       "      <td>USW00014898</td>\n",
       "      <td>2022-12-31</td>\n",
       "      <td>GREEN BAY</td>\n",
       "      <td>(-44, 0)</td>\n",
       "    </tr>\n",
       "  </tbody>\n",
       "</table>\n",
       "<p>365 rows × 4 columns</p>\n",
       "</div>"
      ],
      "text/plain": [
       "              id        date                            name       record\n",
       "0    USW00014898  2022-01-01  GREEN BAY                       (-110, -32)\n",
       "1    USW00014898  2022-01-02  GREEN BAY                       (-166, -77)\n",
       "2    USW00014898  2022-01-03  GREEN BAY                       (-171, -60)\n",
       "3    USW00014898  2022-01-04  GREEN BAY                         (-116, 0)\n",
       "4    USW00014898  2022-01-05  GREEN BAY                        (-88, -16)\n",
       "..           ...         ...                             ...          ...\n",
       "360  USW00014898  2022-12-27  GREEN BAY                       (-172, -50)\n",
       "361  USW00014898  2022-12-28  GREEN BAY                         (-50, 50)\n",
       "362  USW00014898  2022-12-29  GREEN BAY                         (33, 106)\n",
       "363  USW00014898  2022-12-30  GREEN BAY                        (-39, 100)\n",
       "364  USW00014898  2022-12-31  GREEN BAY                          (-44, 0)\n",
       "\n",
       "[365 rows x 4 columns]"
      ]
     },
     "execution_count": 24,
     "metadata": {},
     "output_type": "execute_result"
    }
   ],
   "source": [
    "import pandas as pd\n",
    "pd.DataFrame(cass.execute(\"\"\"\n",
    "    SELECT *\n",
    "    FROM weather.stations\n",
    "    WHERE id = 'USW00014898'\n",
    "\"\"\"\n",
    "                         ) )"
   ]
  },
  {
   "cell_type": "code",
   "execution_count": 25,
   "id": "5760d511-aea0-4244-849d-50d8e5f18db7",
   "metadata": {},
   "outputs": [],
   "source": [
    "# Create a DataFrame that corresponds to the stations table in Cassandra\n",
    "df = spark.read.format(\"org.apache.spark.sql.cassandra\")\\\n",
    "    .option(\"spark.cassandra.connection.host\", \"p6-db-1,p6-db-2,p6-db-3\")\\\n",
    "    .option(\"keyspace\", \"weather\")\\\n",
    "    .option(\"table\", \"stations\")\\\n",
    "    .load()\n",
    "\n",
    "# Create a temporary view named stations\n",
    "df.createOrReplaceTempView(\"stations\")"
   ]
  },
  {
   "cell_type": "code",
   "execution_count": 26,
   "id": "30df610e-f4f1-4d7c-92d9-44fd0ccc1afb",
   "metadata": {},
   "outputs": [
    {
     "data": {
      "text/plain": [
       "[Table(name='stations', catalog=None, namespace=[], description=None, tableType='TEMPORARY', isTemporary=True)]"
      ]
     },
     "execution_count": 26,
     "metadata": {},
     "output_type": "execute_result"
    }
   ],
   "source": [
    "#q6\n",
    "# List the tables/views available in the Spark catalog\n",
    "tables = spark.catalog.listTables()\n",
    "tables\n",
    "# # Print the tables/views\n",
    "# for table in tables:\n",
    "#     print(table.name)"
   ]
  },
  {
   "cell_type": "code",
   "execution_count": 27,
   "id": "a8b4ed3b-2dd3-4bb0-a8ed-5b379de4b7bb",
   "metadata": {},
   "outputs": [
    {
     "name": "stderr",
     "output_type": "stream",
     "text": [
      "                                                                                \r"
     ]
    },
    {
     "data": {
      "text/plain": [
       "{'USW00014837': 105.62739726027397,\n",
       " 'USR0000WDDG': 102.06849315068493,\n",
       " 'USW00014898': 102.93698630136986,\n",
       " 'USW00014839': 89.6986301369863}"
      ]
     },
     "execution_count": 27,
     "metadata": {},
     "output_type": "execute_result"
    },
    {
     "name": "stderr",
     "output_type": "stream",
     "text": [
      "23/11/27 18:11:22 WARN ChannelPool: [s0|p6-db-2/192.168.0.3:9042]  Error while opening new channel (ConnectionInitException: [s0|connecting...] Protocol initialization request, step 1 (STARTUP {CQL_VERSION=3.0.0, DRIVER_NAME=DataStax Java driver for Apache Cassandra(R), DRIVER_VERSION=4.13.0, CLIENT_ID=04a30afe-c486-4221-b547-c64e2d5f48ee, APPLICATION_NAME=Spark-Cassandra-Connector-local-1701108440025}): failed to send request (java.nio.channels.NotYetConnectedException))\n"
     ]
    }
   ],
   "source": [
    "#q7\n",
    "from pyspark.sql.functions import avg\n",
    "\n",
    "# Calculate the average difference between tmax and tmin for each station\n",
    "result = spark.sql(\"\"\"\n",
    "    SELECT id, AVG(record.tmax - record.tmin) as avg_diff\n",
    "    FROM stations\n",
    "    WHERE record.tmax IS NOT NULL AND record.tmin IS NOT NULL\n",
    "    GROUP BY id\n",
    "\"\"\")\n",
    "\n",
    "# Convert the result to a dictionary\n",
    "result_dict = {row['id']: row['avg_diff'] for row in result.collect()}\n",
    "\n",
    "result_dict"
   ]
  },
  {
   "cell_type": "code",
   "execution_count": 30,
   "id": "4bc8bef6-4a07-4870-89f9-fc8a08cd7050",
   "metadata": {},
   "outputs": [
    {
     "name": "stderr",
     "output_type": "stream",
     "text": [
      "WARNING:cassandra.cluster:[control connection] Error connecting to 192.168.0.3:9042:\n",
      "Traceback (most recent call last):\n",
      "  File \"cassandra/cluster.py\", line 3541, in cassandra.cluster.ControlConnection._reconnect_internal\n",
      "  File \"cassandra/cluster.py\", line 3563, in cassandra.cluster.ControlConnection._try_connect\n",
      "  File \"cassandra/cluster.py\", line 1630, in cassandra.cluster.Cluster.connection_factory\n",
      "  File \"cassandra/connection.py\", line 850, in cassandra.connection.Connection.factory\n",
      "  File \"/usr/local/lib/python3.10/dist-packages/cassandra/io/asyncorereactor.py\", line 347, in __init__\n",
      "    self._connect_socket()\n",
      "  File \"cassandra/connection.py\", line 917, in cassandra.connection.Connection._connect_socket\n",
      "OSError: [Errno None] Tried connecting to [('192.168.0.3', 9042)]. Last error: timed out\n"
     ]
    },
    {
     "name": "stdout",
     "output_type": "stream",
     "text": [
      "Datacenter: datacenter1\n",
      "=======================\n",
      "Status=Up/Down\n",
      "|/ State=Normal/Leaving/Joining/Moving\n",
      "--  Address      Load       Tokens  Owns (effective)  Host ID                               Rack \n",
      "UN  192.168.0.4  87.75 KiB  16      100.0%            362073be-29e5-403a-8711-c00a9c882911  rack1\n",
      "UN  192.168.0.2  87.75 KiB  16      100.0%            95103454-d97b-4484-9793-0e232b7ca89a  rack1\n",
      "DN  192.168.0.3  87.75 KiB  16      100.0%            eb077375-d7df-42a0-bb7b-4f9eb0f71ef7  rack1\n",
      "\n"
     ]
    },
    {
     "name": "stderr",
     "output_type": "stream",
     "text": [
      "WARNING:cassandra.pool:Error attempting to reconnect to 192.168.0.3:9042, scheduling retry in 1.74 seconds: [Errno None] Tried connecting to [('192.168.0.3', 9042)]. Last error: timed out\n",
      "23/11/27 18:11:51 WARN ChannelPool: [s0|p6-db-2/192.168.0.3:9042]  Error while opening new channel (ConnectionInitException: [s0|connecting...] Protocol initialization request, step 1 (STARTUP {CQL_VERSION=3.0.0, DRIVER_NAME=DataStax Java driver for Apache Cassandra(R), DRIVER_VERSION=4.13.0, CLIENT_ID=04a30afe-c486-4221-b547-c64e2d5f48ee, APPLICATION_NAME=Spark-Cassandra-Connector-local-1701108440025}): failed to send request (java.nio.channels.NotYetConnectedException))\n",
      "WARNING:cassandra.pool:Error attempting to reconnect to 192.168.0.3:9042, scheduling retry in 4.04 seconds: [Errno None] Tried connecting to [('192.168.0.3', 9042)]. Last error: timed out\n",
      "WARNING:cassandra.pool:Error attempting to reconnect to 192.168.0.3:9042, scheduling retry in 7.76 seconds: [Errno None] Tried connecting to [('192.168.0.3', 9042)]. Last error: timed out\n",
      "23/11/27 18:12:13 WARN ChannelPool: [s0|p6-db-2/192.168.0.3:9042]  Error while opening new channel (ConnectionInitException: [s0|connecting...] Protocol initialization request, step 1 (STARTUP {CQL_VERSION=3.0.0, DRIVER_NAME=DataStax Java driver for Apache Cassandra(R), DRIVER_VERSION=4.13.0, CLIENT_ID=04a30afe-c486-4221-b547-c64e2d5f48ee, APPLICATION_NAME=Spark-Cassandra-Connector-local-1701108440025}): failed to send request (com.datastax.oss.driver.shaded.netty.channel.StacklessClosedChannelException))\n",
      "WARNING:cassandra.pool:Error attempting to reconnect to 192.168.0.3:9042, scheduling retry in 15.52 seconds: [Errno 113] Tried connecting to [('192.168.0.3', 9042)]. Last error: No route to host\n",
      "WARNING:cassandra.pool:Error attempting to reconnect to 192.168.0.3:9042, scheduling retry in 28.8 seconds: [Errno 113] Tried connecting to [('192.168.0.3', 9042)]. Last error: No route to host\n",
      "23/11/27 18:12:50 WARN ChannelPool: [s0|p6-db-2/192.168.0.3:9042]  Error while opening new channel (ConnectionInitException: [s0|connecting...] Protocol initialization request, step 1 (STARTUP {CQL_VERSION=3.0.0, DRIVER_NAME=DataStax Java driver for Apache Cassandra(R), DRIVER_VERSION=4.13.0, CLIENT_ID=04a30afe-c486-4221-b547-c64e2d5f48ee, APPLICATION_NAME=Spark-Cassandra-Connector-local-1701108440025}): failed to send request (com.datastax.oss.driver.shaded.netty.channel.StacklessClosedChannelException))\n",
      "WARNING:cassandra.pool:Error attempting to reconnect to 192.168.0.3:9042, scheduling retry in 70.4 seconds: [Errno 113] Tried connecting to [('192.168.0.3', 9042)]. Last error: No route to host\n"
     ]
    }
   ],
   "source": [
    "#q8\n",
    "#!docker exec -it p6-db-1 nodetool status\n",
    "!nodetool status"
   ]
  },
  {
   "cell_type": "code",
   "execution_count": 1,
   "id": "b00a7f78-6792-4d1a-b70d-c59ec9b3a262",
   "metadata": {},
   "outputs": [
    {
     "ename": "NameError",
     "evalue": "name 'grpc' is not defined",
     "output_type": "error",
     "traceback": [
      "\u001b[0;31m---------------------------------------------------------------------------\u001b[0m",
      "\u001b[0;31mNameError\u001b[0m                                 Traceback (most recent call last)",
      "Cell \u001b[0;32mIn[1], line 3\u001b[0m\n\u001b[1;32m      1\u001b[0m \u001b[38;5;66;03m#q9\u001b[39;00m\n\u001b[1;32m      2\u001b[0m \u001b[38;5;66;03m# Open a gRPC channel\u001b[39;00m\n\u001b[0;32m----> 3\u001b[0m channel \u001b[38;5;241m=\u001b[39m \u001b[43mgrpc\u001b[49m\u001b[38;5;241m.\u001b[39minsecure_channel(\u001b[38;5;124m'\u001b[39m\u001b[38;5;124mlocalhost:5440\u001b[39m\u001b[38;5;124m'\u001b[39m)\n\u001b[1;32m      5\u001b[0m \u001b[38;5;66;03m# Create a stub (client)\u001b[39;00m\n\u001b[1;32m      6\u001b[0m stub \u001b[38;5;241m=\u001b[39m station_pb2_grpc\u001b[38;5;241m.\u001b[39mStationStub(channel)\n",
      "\u001b[0;31mNameError\u001b[0m: name 'grpc' is not defined"
     ]
    }
   ],
   "source": [
    "#q9\n",
    "# Open a gRPC channel\n",
    "channel = grpc.insecure_channel('localhost:5440')\n",
    "\n",
    "# Create a stub (client)\n",
    "stub = station_pb2_grpc.StationStub(channel)\n",
    "\n",
    "# Create a valid request message\n",
    "station_max_request = station_pb2.StationMaxRequest(station='USW00014837')\n",
    "\n",
    "# Make the call\n",
    "response = stub.StationMax(station_max_request)\n",
    "\n",
    "# Check the error message in the response\n",
    "if response.error:\n",
    "    print(response.error)\n",
    "else:\n",
    "    print(\"No error occurred.\")\n"
   ]
  },
  {
   "cell_type": "code",
   "execution_count": 24,
   "id": "2ac597df-da4d-4afc-a898-1eb4bef714c3",
   "metadata": {},
   "outputs": [
    {
     "data": {
      "text/plain": [
       "''"
      ]
     },
     "execution_count": 24,
     "metadata": {},
     "output_type": "execute_result"
    },
    {
     "name": "stderr",
     "output_type": "stream",
     "text": [
      "WARNING:cassandra.pool:Error attempting to reconnect to 172.29.0.3:9042, scheduling retry in 501.76 seconds: [Errno 113] Tried connecting to [('172.29.0.3', 9042)]. Last error: No route to host\n",
      "23/11/27 16:11:15 WARN ChannelPool: [s0|p6-db-2/172.29.0.3:9042]  Error while opening new channel (ConnectionInitException: [s0|connecting...] Protocol initialization request, step 1 (STARTUP {CQL_VERSION=3.0.0, DRIVER_NAME=DataStax Java driver for Apache Cassandra(R), DRIVER_VERSION=4.13.0, CLIENT_ID=f010a07f-6e6b-47a2-96d8-d19b9caa981a, APPLICATION_NAME=Spark-Cassandra-Connector-local-1701100561745}): failed to send request (com.datastax.oss.driver.shaded.netty.channel.StacklessClosedChannelException))\n",
      "WARNING:cassandra.pool:Error attempting to reconnect to 172.29.0.3:9042, scheduling retry in 460.8 seconds: [Errno 113] Tried connecting to [('172.29.0.3', 9042)]. Last error: No route to host\n",
      "23/11/27 16:12:18 WARN ChannelPool: [s0|p6-db-2/172.29.0.3:9042]  Error while opening new channel (ConnectionInitException: [s0|connecting...] Protocol initialization request, step 1 (STARTUP {CQL_VERSION=3.0.0, DRIVER_NAME=DataStax Java driver for Apache Cassandra(R), DRIVER_VERSION=4.13.0, CLIENT_ID=f010a07f-6e6b-47a2-96d8-d19b9caa981a, APPLICATION_NAME=Spark-Cassandra-Connector-local-1701100561745}): failed to send request (com.datastax.oss.driver.shaded.netty.channel.StacklessClosedChannelException))\n",
      "23/11/27 16:13:21 WARN ChannelPool: [s0|p6-db-2/172.29.0.3:9042]  Error while opening new channel (ConnectionInitException: [s0|connecting...] Protocol initialization request, step 1 (STARTUP {CQL_VERSION=3.0.0, DRIVER_NAME=DataStax Java driver for Apache Cassandra(R), DRIVER_VERSION=4.13.0, CLIENT_ID=f010a07f-6e6b-47a2-96d8-d19b9caa981a, APPLICATION_NAME=Spark-Cassandra-Connector-local-1701100561745}): failed to send request (com.datastax.oss.driver.shaded.netty.channel.StacklessClosedChannelException))\n",
      "23/11/27 16:14:16 WARN ChannelPool: [s0|p6-db-2/172.29.0.3:9042]  Error while opening new channel (ConnectionInitException: [s0|connecting...] Protocol initialization request, step 1 (STARTUP {CQL_VERSION=3.0.0, DRIVER_NAME=DataStax Java driver for Apache Cassandra(R), DRIVER_VERSION=4.13.0, CLIENT_ID=f010a07f-6e6b-47a2-96d8-d19b9caa981a, APPLICATION_NAME=Spark-Cassandra-Connector-local-1701100561745}): failed to send request (com.datastax.oss.driver.shaded.netty.channel.StacklessClosedChannelException))\n",
      "23/11/27 16:15:20 WARN ChannelPool: [s0|p6-db-2/172.29.0.3:9042]  Error while opening new channel (ConnectionInitException: [s0|connecting...] Protocol initialization request, step 1 (STARTUP {CQL_VERSION=3.0.0, DRIVER_NAME=DataStax Java driver for Apache Cassandra(R), DRIVER_VERSION=4.13.0, CLIENT_ID=f010a07f-6e6b-47a2-96d8-d19b9caa981a, APPLICATION_NAME=Spark-Cassandra-Connector-local-1701100561745}): failed to send request (com.datastax.oss.driver.shaded.netty.channel.StacklessClosedChannelException))\n"
     ]
    }
   ],
   "source": [
    "#q10\n",
    "channel = grpc.insecure_channel('localhost:5440')\n",
    "\n",
    "# Create a stub (client)\n",
    "stub = station_pb2_grpc.StationStub(channel)\n",
    "\n",
    "# Create a valid request message\n",
    "record_temps_request = station_pb2.RecordTempsRequest(\n",
    "        station=\"USTEMP\",\n",
    "        date=\"0220107\",\n",
    "        tmin=0,\n",
    "        tmax=1\n",
    ")\n",
    "\n",
    "# Make the call\n",
    "response = stub.RecordTemps(record_temps_request)\n",
    "\n",
    "response.error"
   ]
  },
  {
   "cell_type": "code",
   "execution_count": null,
   "id": "ed05a53e-9a4e-4488-8fa9-9cbc94b89329",
   "metadata": {},
   "outputs": [],
   "source": []
  },
  {
   "cell_type": "code",
   "execution_count": null,
   "id": "e4fb940f-842c-4eb6-8a2c-bccc95af416c",
   "metadata": {},
   "outputs": [],
   "source": []
  }
 ],
 "metadata": {
  "kernelspec": {
   "display_name": "Python 3 (ipykernel)",
   "language": "python",
   "name": "python3"
  },
  "language_info": {
   "codemirror_mode": {
    "name": "ipython",
    "version": 3
   },
   "file_extension": ".py",
   "mimetype": "text/x-python",
   "name": "python",
   "nbconvert_exporter": "python",
   "pygments_lexer": "ipython3",
   "version": "3.10.12"
  }
 },
 "nbformat": 4,
 "nbformat_minor": 5
}
