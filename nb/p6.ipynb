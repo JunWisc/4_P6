{
 "cells": [
  {
   "cell_type": "code",
   "execution_count": 5,
   "id": "24f5c19f-bb2d-4359-96a2-b72461c6259e",
   "metadata": {},
   "outputs": [],
   "source": [
    "# Junhae Lee - jlee2294@wisc.edu / Gyuho Shim - gjshim@wisc.edu"
   ]
  },
  {
   "cell_type": "code",
   "execution_count": 6,
   "id": "f2c5057d-81fa-4c03-a63f-659e9296986f",
   "metadata": {},
   "outputs": [],
   "source": [
    "# We got help from Microsoft Bing Chat\n",
    "# Also, from Piazza, @640, 691,702 "
   ]
  },
  {
   "cell_type": "code",
   "execution_count": 7,
   "id": "cad81a6d-1fed-499c-9c95-fb69e89a7f27",
   "metadata": {},
   "outputs": [
    {
     "name": "stdout",
     "output_type": "stream",
     "text": [
      "Datacenter: datacenter1\n",
      "=======================\n",
      "Status=Up/Down\n",
      "|/ State=Normal/Leaving/Joining/Moving\n",
      "--  Address       Load       Tokens  Owns (effective)  Host ID                               Rack \n",
      "UN  192.168.32.2  70.26 KiB  16      73.7%             4b1ad2cf-72ce-406f-99b6-aa3e2c96e3b5  rack1\n",
      "UN  192.168.32.4  70.29 KiB  16      59.5%             4c36c687-166a-48a7-ad61-d4ade224fc0f  rack1\n",
      "UN  192.168.32.3  70.28 KiB  16      66.8%             c18b0314-2335-41a1-8565-8a1cdb026786  rack1\n",
      "\n"
     ]
    }
   ],
   "source": [
    "!nodetool status"
   ]
  },
  {
   "cell_type": "code",
   "execution_count": 8,
   "id": "03a20b2c-e91a-43ec-b803-5ab403442b99",
   "metadata": {},
   "outputs": [],
   "source": [
    "#Connect to the Cassandra cluster\n",
    "from cassandra.cluster import Cluster\n",
    "cluster = Cluster(['p6-db-1', 'p6-db-2', 'p6-db-3'])\n",
    "cass = cluster.connect()"
   ]
  },
  {
   "cell_type": "code",
   "execution_count": 9,
   "id": "3d45fbfa-9090-4390-aede-7cd3289acfb9",
   "metadata": {},
   "outputs": [
    {
     "name": "stdout",
     "output_type": "stream",
     "text": [
      "CREATE TABLE weather.stations (\n",
      "    id text,\n",
      "    date date,\n",
      "    name text static,\n",
      "    record station_record,\n",
      "    PRIMARY KEY (id, date)\n",
      ") WITH CLUSTERING ORDER BY (date ASC)\n",
      "    AND additional_write_policy = '99p'\n",
      "    AND bloom_filter_fp_chance = 0.01\n",
      "    AND caching = {'keys': 'ALL', 'rows_per_partition': 'NONE'}\n",
      "    AND cdc = false\n",
      "    AND comment = ''\n",
      "    AND compaction = {'class': 'org.apache.cassandra.db.compaction.SizeTieredCompactionStrategy', 'max_threshold': '32', 'min_threshold': '4'}\n",
      "    AND compression = {'chunk_length_in_kb': '16', 'class': 'org.apache.cassandra.io.compress.LZ4Compressor'}\n",
      "    AND memtable = 'default'\n",
      "    AND crc_check_chance = 1.0\n",
      "    AND default_time_to_live = 0\n",
      "    AND extensions = {}\n",
      "    AND gc_grace_seconds = 864000\n",
      "    AND max_index_interval = 2048\n",
      "    AND memtable_flush_period_in_ms = 0\n",
      "    AND min_index_interval = 128\n",
      "    AND read_repair = 'BLOCKING'\n",
      "    AND speculative_retry = '99p';\n"
     ]
    }
   ],
   "source": [
    "#q1\n",
    "from cassandra.query import SimpleStatement\n",
    "\n",
    "cluster = Cluster(['p6-db-1', 'p6-db-2', 'p6-db-3'])\n",
    "cass = cluster.connect()\n",
    "\n",
    "cass.execute(\"DROP KEYSPACE IF EXISTS weather\")\n",
    "\n",
    "cass.execute(\"\"\"\n",
    "    CREATE KEYSPACE weather \n",
    "    WITH replication = {'class': 'SimpleStrategy', 'replication_factor': '3'}\n",
    "\"\"\")\n",
    "\n",
    "cass.set_keyspace('weather')\n",
    "\n",
    "cass.execute(\"\"\"\n",
    "    CREATE TYPE station_record (\n",
    "        tmin int,\n",
    "        tmax int\n",
    "    )\n",
    "\"\"\")\n",
    "\n",
    "cass.execute(\"\"\"\n",
    "    CREATE TABLE stations (\n",
    "        id text,\n",
    "        name text static,\n",
    "        date date,\n",
    "        record station_record,\n",
    "        PRIMARY KEY (id, date)\n",
    "    ) WITH CLUSTERING ORDER BY (date ASC)\n",
    "\"\"\")\n",
    "\n",
    "print(cass.execute(\"describe table weather.stations \").one().create_statement)"
   ]
  },
  {
   "cell_type": "code",
   "execution_count": 12,
   "id": "5c14cbff-ca2d-47d4-88fa-52dd1125fd3c",
   "metadata": {
    "scrolled": true
   },
   "outputs": [],
   "source": [
    "from pyspark.sql import SparkSession\n",
    "spark = (SparkSession.builder\n",
    "         .appName(\"p6\")\n",
    "         .config('spark.jars.packages', 'com.datastax.spark:spark-cassandra-connector_2.12:3.4.0')\n",
    "         .config(\"spark.sql.extensions\", \"com.datastax.spark.connector.CassandraSparkExtensions\")\n",
    "         .getOrCreate())"
   ]
  },
  {
   "cell_type": "code",
   "execution_count": 13,
   "id": "38c0e3fe-3ad3-49e8-b1be-ae0e4d8194a7",
   "metadata": {},
   "outputs": [
    {
     "name": "stderr",
     "output_type": "stream",
     "text": [
      "                                                                                \r"
     ]
    }
   ],
   "source": [
    "from pyspark.sql.functions import substring\n",
    "\n",
    "spark = (SparkSession.builder\n",
    "         .appName(\"p6\")\n",
    "         .config('spark.jars.packages', 'com.datastax.spark:spark-cassandra-connector_2.12:3.4.0')\n",
    "         .config(\"spark.sql.extensions\", \"com.datastax.spark.connector.CassandraSparkExtensions\")\n",
    "         .getOrCreate())\n",
    "\n",
    "stations = spark.read.text(\"ghcnd-stations.txt\")\n",
    "\n",
    "stations = stations.select(\n",
    "    substring(stations['value'], 1, 11).alias('id'),\n",
    "    substring(stations['value'], 39, 2).alias('state'),\n",
    "    substring(stations['value'], 42, 30).alias('name')\n",
    ")\n",
    "\n",
    "stations = stations.filter(stations['state'] == 'WI')\n",
    "\n",
    "for row in stations.collect():\n",
    "    cass.execute(\n",
    "        \"\"\"\n",
    "        INSERT INTO stations (id, name)\n",
    "        VALUES (%s, %s)\n",
    "        \"\"\",\n",
    "        (row['id'], row['name'])\n",
    "    )"
   ]
  },
  {
   "cell_type": "code",
   "execution_count": 14,
   "id": "3d4ba10d-08c5-4e98-b95b-86cde5e0cce9",
   "metadata": {},
   "outputs": [
    {
     "name": "stdout",
     "output_type": "stream",
     "text": [
      "1313\n"
     ]
    }
   ],
   "source": [
    "rows = cass.execute(\"SELECT COUNT(*) FROM weather.stations\")\n",
    "\n",
    "for row in rows:\n",
    "    print(row[0])"
   ]
  },
  {
   "cell_type": "code",
   "execution_count": 15,
   "id": "748c6acf-3a0e-4247-85f6-73e09d4e1da7",
   "metadata": {},
   "outputs": [
    {
     "name": "stdout",
     "output_type": "stream",
     "text": [
      "MADISON DANE CO RGNL AP       \n"
     ]
    }
   ],
   "source": [
    "#q2\n",
    "rows = cass.execute(\"SELECT name FROM stations WHERE id = 'USW00014837'\")\n",
    "\n",
    "for row in rows:\n",
    "    print(row.name)"
   ]
  },
  {
   "cell_type": "code",
   "execution_count": 16,
   "id": "9b03d9d1-8142-4b66-aad7-329ad064b966",
   "metadata": {},
   "outputs": [
    {
     "name": "stdout",
     "output_type": "stream",
     "text": [
      "-9014250178872933741\n"
     ]
    }
   ],
   "source": [
    "#q3\n",
    "rows = cass.execute(\"SELECT TOKEN(id) FROM stations WHERE id = 'USC00470273'\")\n",
    "\n",
    "for row in rows:\n",
    "    print(row[0])"
   ]
  },
  {
   "cell_type": "code",
   "execution_count": 17,
   "id": "81fcac1e-12b9-412a-87cc-42a1dc1a3010",
   "metadata": {},
   "outputs": [
    {
     "name": "stderr",
     "output_type": "stream",
     "text": [
      "/tmp/ipykernel_136/1313732839.py:2: DeprecationWarning: ResultSet indexing support will be removed in 4.0. Consider using ResultSet.one() to get a single row.\n",
      "  usc_token = rows[0][0]\n"
     ]
    }
   ],
   "source": [
    "rows = cass.execute(\"SELECT TOKEN(id) FROM stations WHERE id = 'USC00470273'\")\n",
    "usc_token = rows[0][0]"
   ]
  },
  {
   "cell_type": "code",
   "execution_count": 18,
   "id": "43cd97e7-8ba9-4d9c-baa2-3ffb8c59aeff",
   "metadata": {},
   "outputs": [
    {
     "data": {
      "text/plain": [
       "-9014250178872933741"
      ]
     },
     "execution_count": 18,
     "metadata": {},
     "output_type": "execute_result"
    }
   ],
   "source": [
    "usc_token"
   ]
  },
  {
   "cell_type": "code",
   "execution_count": 19,
   "id": "27b039a9-3c75-4e9b-8ba3-d76684eef3c1",
   "metadata": {},
   "outputs": [
    {
     "data": {
      "text/plain": [
       "-8493688541928700987"
      ]
     },
     "execution_count": 19,
     "metadata": {},
     "output_type": "execute_result"
    }
   ],
   "source": [
    "#q4\n",
    "import subprocess\n",
    "\n",
    "# Get the token for USC00470273\n",
    "rows = cass.execute(\"SELECT TOKEN(id) FROM stations WHERE id = 'USC00470273'\")\n",
    "usc_token = rows.one()[0]\n",
    "\n",
    "# Run nodetool ring\n",
    "output = subprocess.check_output([\"nodetool\", \"ring\"]).decode()\n",
    "\n",
    "# Parse the output\n",
    "lines = output.split(\"\\n\")[4:-1]  # Remove the header and footer\n",
    "\n",
    "# Extract valid tokens from the lines\n",
    "tokens = []\n",
    "for line in lines:\n",
    "    split_line = line.split()\n",
    "    if len(split_line) > 7:\n",
    "        token_str = split_line[7]\n",
    "        try:\n",
    "            token = int(token_str)\n",
    "            tokens.append(token)\n",
    "        except ValueError:\n",
    "            continue\n",
    "# Sort the tokens\n",
    "tokens.sort()\n",
    "\n",
    "# Find the token that comes after the token for USC00470273\n",
    "next_token = None\n",
    "for token in tokens:\n",
    "    if token >= usc_token:\n",
    "        next_token = token\n",
    "        break\n",
    "\n",
    "# Handle the case where the ring \"wraps around\"\n",
    "if next_token is None and tokens:\n",
    "    next_token = tokens[0]\n",
    "\n",
    "next_token\n"
   ]
  },
  {
   "cell_type": "code",
   "execution_count": 15,
   "id": "95031c07-4181-4018-befa-c4defc6a01fb",
   "metadata": {},
   "outputs": [],
   "source": [
    "#!unzip records.zip"
   ]
  },
  {
   "cell_type": "code",
   "execution_count": 20,
   "id": "0845c093-b84f-4bdc-ade3-ecbf98bcdf27",
   "metadata": {},
   "outputs": [
    {
     "name": "stderr",
     "output_type": "stream",
     "text": [
      "23/11/27 18:30:51 WARN SparkSession: Using an existing Spark session; only runtime SQL configurations will take effect.\n",
      "[Stage 2:>                                                          (0 + 1) / 1]\r"
     ]
    },
    {
     "name": "stdout",
     "output_type": "stream",
     "text": [
      "+-----------+--------+-------+------+\n",
      "|    station|    date|element| value|\n",
      "+-----------+--------+-------+------+\n",
      "|USW00014898|20220101|   TMAX| -32.0|\n",
      "|USW00014898|20220102|   TMAX| -77.0|\n",
      "|USW00014898|20220103|   TMAX| -60.0|\n",
      "|USW00014898|20220104|   TMAX|   0.0|\n",
      "|USW00014898|20220105|   TMAX| -16.0|\n",
      "|USW00014898|20220106|   TMAX| -71.0|\n",
      "|USW00014898|20220107|   TMAX| -71.0|\n",
      "|USW00014898|20220108|   TMAX| -32.0|\n",
      "|USW00014898|20220109|   TMAX| -27.0|\n",
      "|USW00014898|20220110|   TMAX|-149.0|\n",
      "|USW00014898|20220111|   TMAX| -16.0|\n",
      "|USW00014898|20220112|   TMAX|   6.0|\n",
      "|USW00014898|20220113|   TMAX|  11.0|\n",
      "|USW00014898|20220114|   TMAX| -77.0|\n",
      "|USW00014898|20220115|   TMAX| -99.0|\n",
      "|USW00014898|20220116|   TMAX| -60.0|\n",
      "|USW00014898|20220117|   TMAX| -21.0|\n",
      "|USW00014898|20220118|   TMAX|  28.0|\n",
      "|USW00014898|20220119|   TMAX|  28.0|\n",
      "|USW00014898|20220120|   TMAX|-121.0|\n",
      "+-----------+--------+-------+------+\n",
      "only showing top 20 rows\n",
      "\n"
     ]
    },
    {
     "name": "stderr",
     "output_type": "stream",
     "text": [
      "                                                                                \r"
     ]
    }
   ],
   "source": [
    "spark = SparkSession.builder.appName(\"WeatherDataProcessing\").getOrCreate()\n",
    "\n",
    "# Assuming records.parquet is the path to your Parquet files\n",
    "parquet_path = \"records.parquet\"\n",
    "df = spark.read.parquet(parquet_path)\n",
    "df.show()"
   ]
  },
  {
   "cell_type": "code",
   "execution_count": 21,
   "id": "f51540dc-08f3-410a-8b70-767f0b4220fb",
   "metadata": {},
   "outputs": [
    {
     "data": {
      "text/plain": [
       "['station', 'date', 'element', 'value']"
      ]
     },
     "execution_count": 21,
     "metadata": {},
     "output_type": "execute_result"
    }
   ],
   "source": [
    "df.columns"
   ]
  },
  {
   "cell_type": "code",
   "execution_count": 22,
   "id": "df67fb3d-a164-4672-ab6a-7a2e4f8ca9ae",
   "metadata": {},
   "outputs": [
    {
     "name": "stderr",
     "output_type": "stream",
     "text": [
      "23/11/27 18:31:05 WARN package: Truncated the string representation of a plan since it was too large. This behavior can be adjusted by setting 'spark.sql.debug.maxToStringFields'.\n",
      "                                                                                \r"
     ]
    },
    {
     "name": "stdout",
     "output_type": "stream",
     "text": [
      "+-----------+--------+------+------+\n",
      "|    station|    date|  TMIN|  TMAX|\n",
      "+-----------+--------+------+------+\n",
      "|USW00014898|20220107|-166.0| -71.0|\n",
      "|USW00014839|20220924| 117.0| 194.0|\n",
      "|USW00014839|20220523|  83.0| 150.0|\n",
      "|USW00014839|20221019|  11.0|  83.0|\n",
      "|USW00014839|20220529| 139.0| 261.0|\n",
      "|USR0000WDDG|20221130|-106.0| -39.0|\n",
      "|USR0000WDDG|20220119|-178.0| -56.0|\n",
      "|USW00014837|20220222| -88.0| -38.0|\n",
      "|USR0000WDDG|20220202|-150.0|-106.0|\n",
      "|USW00014839|20220427|   0.0|  39.0|\n",
      "|USW00014839|20220708| 189.0| 222.0|\n",
      "|USW00014839|20220917| 200.0| 294.0|\n",
      "|USW00014837|20220624| 200.0| 322.0|\n",
      "|USW00014898|20220129|-116.0| -60.0|\n",
      "|USW00014839|20220715| 156.0| 233.0|\n",
      "|USR0000WDDG|20220224|-128.0| -61.0|\n",
      "|USR0000WDDG|20220130|-117.0| -33.0|\n",
      "|USR0000WDDG|20220414| -17.0|  50.0|\n",
      "|USW00014898|20220728| 156.0| 256.0|\n",
      "|USW00014837|20220906| 117.0| 256.0|\n",
      "+-----------+--------+------+------+\n",
      "only showing top 20 rows\n",
      "\n"
     ]
    },
    {
     "name": "stderr",
     "output_type": "stream",
     "text": [
      "                                                                                \r"
     ]
    }
   ],
   "source": [
    "pivoted_df = df.groupBy(\"station\", \"date\").pivot(\"element\").agg({\"value\": \"first\"})\n",
    "\n",
    "# Rename the columns to remove the 'value_' prefix\n",
    "pivoted_df = pivoted_df.withColumnRenamed(\"value_tmin\", \"TMIN\").withColumnRenamed(\"value_tmax\", \"TMAX\")\n",
    "\n",
    "# Select relevant columns\n",
    "result_df = pivoted_df.select(\"station\", \"date\", \"TMIN\", \"TMAX\")\n",
    "\n",
    "# Show the resulting DataFrame\n",
    "result_df.show()\n",
    "\n",
    "# Save the rearranged DataFrame to a new Parquet file if needed\n",
    "result_df.write.parquet(\"path/to/rearranged_data.parquet\", mode=\"overwrite\")"
   ]
  },
  {
   "cell_type": "code",
   "execution_count": 23,
   "id": "d12e7e14-0335-4ba7-b565-5f83978967c1",
   "metadata": {},
   "outputs": [],
   "source": [
    "import grpc\n",
    "import station_pb2\n",
    "import station_pb2_grpc\n",
    "\n",
    "# Open a gRPC channel\n",
    "channel = grpc.insecure_channel('localhost:5440')\n",
    "\n",
    "# Create a stub (client)\n",
    "stub = station_pb2_grpc.StationStub(channel)\n"
   ]
  },
  {
   "cell_type": "code",
   "execution_count": 24,
   "id": "8fc45ed3-a57f-4924-adfd-7ffb20258907",
   "metadata": {},
   "outputs": [
    {
     "data": {
      "text/plain": [
       "-166.0"
      ]
     },
     "execution_count": 24,
     "metadata": {},
     "output_type": "execute_result"
    }
   ],
   "source": [
    "result_df.collect()[0].TMIN"
   ]
  },
  {
   "cell_type": "code",
   "execution_count": 25,
   "id": "11e67def-3a55-43d1-91e9-b04d1cbe5174",
   "metadata": {},
   "outputs": [
    {
     "data": {
      "text/plain": [
       "356"
      ]
     },
     "execution_count": 25,
     "metadata": {},
     "output_type": "execute_result"
    }
   ],
   "source": [
    "#q5\n",
    "import grpc\n",
    "import station_pb2\n",
    "import station_pb2_grpc\n",
    "\n",
    "# Open a gRPC channel\n",
    "channel = grpc.insecure_channel('localhost:5440')\n",
    "\n",
    "# Create a stub (client)\n",
    "stub = station_pb2_grpc.StationStub(channel)\n",
    "\n",
    "res_col = result_df.collect()\n",
    "\n",
    "for result_row in res_col:\n",
    "    # print(result_row.station)\n",
    "    res=stub.RecordTemps(station_pb2.RecordTempsRequest(\n",
    "        station=result_row.station,\n",
    "        date=str(result_row.date),\n",
    "        tmin=int(result_row.TMIN),\n",
    "        tmax=int(result_row.TMAX)\n",
    "    ))\n",
    "\n",
    "# Create a valid request message\n",
    "station_max_request = station_pb2.StationMaxRequest(station='USW00014837')\n",
    "\n",
    "# Make the call\n",
    "response = stub.StationMax(station_max_request)\n",
    "\n",
    "response.tmax\n"
   ]
  },
  {
   "cell_type": "code",
   "execution_count": 26,
   "id": "ef23c675-8d05-4ded-b0a3-851cf51887ac",
   "metadata": {},
   "outputs": [
    {
     "data": {
      "text/html": [
       "<div>\n",
       "<style scoped>\n",
       "    .dataframe tbody tr th:only-of-type {\n",
       "        vertical-align: middle;\n",
       "    }\n",
       "\n",
       "    .dataframe tbody tr th {\n",
       "        vertical-align: top;\n",
       "    }\n",
       "\n",
       "    .dataframe thead th {\n",
       "        text-align: right;\n",
       "    }\n",
       "</style>\n",
       "<table border=\"1\" class=\"dataframe\">\n",
       "  <thead>\n",
       "    <tr style=\"text-align: right;\">\n",
       "      <th></th>\n",
       "      <th>id</th>\n",
       "      <th>date</th>\n",
       "      <th>name</th>\n",
       "      <th>record</th>\n",
       "    </tr>\n",
       "  </thead>\n",
       "  <tbody>\n",
       "    <tr>\n",
       "      <th>0</th>\n",
       "      <td>USW00014898</td>\n",
       "      <td>2022-01-01</td>\n",
       "      <td>GREEN BAY</td>\n",
       "      <td>(-110, -32)</td>\n",
       "    </tr>\n",
       "    <tr>\n",
       "      <th>1</th>\n",
       "      <td>USW00014898</td>\n",
       "      <td>2022-01-02</td>\n",
       "      <td>GREEN BAY</td>\n",
       "      <td>(-166, -77)</td>\n",
       "    </tr>\n",
       "    <tr>\n",
       "      <th>2</th>\n",
       "      <td>USW00014898</td>\n",
       "      <td>2022-01-03</td>\n",
       "      <td>GREEN BAY</td>\n",
       "      <td>(-171, -60)</td>\n",
       "    </tr>\n",
       "    <tr>\n",
       "      <th>3</th>\n",
       "      <td>USW00014898</td>\n",
       "      <td>2022-01-04</td>\n",
       "      <td>GREEN BAY</td>\n",
       "      <td>(-116, 0)</td>\n",
       "    </tr>\n",
       "    <tr>\n",
       "      <th>4</th>\n",
       "      <td>USW00014898</td>\n",
       "      <td>2022-01-05</td>\n",
       "      <td>GREEN BAY</td>\n",
       "      <td>(-88, -16)</td>\n",
       "    </tr>\n",
       "    <tr>\n",
       "      <th>...</th>\n",
       "      <td>...</td>\n",
       "      <td>...</td>\n",
       "      <td>...</td>\n",
       "      <td>...</td>\n",
       "    </tr>\n",
       "    <tr>\n",
       "      <th>360</th>\n",
       "      <td>USW00014898</td>\n",
       "      <td>2022-12-27</td>\n",
       "      <td>GREEN BAY</td>\n",
       "      <td>(-172, -50)</td>\n",
       "    </tr>\n",
       "    <tr>\n",
       "      <th>361</th>\n",
       "      <td>USW00014898</td>\n",
       "      <td>2022-12-28</td>\n",
       "      <td>GREEN BAY</td>\n",
       "      <td>(-50, 50)</td>\n",
       "    </tr>\n",
       "    <tr>\n",
       "      <th>362</th>\n",
       "      <td>USW00014898</td>\n",
       "      <td>2022-12-29</td>\n",
       "      <td>GREEN BAY</td>\n",
       "      <td>(33, 106)</td>\n",
       "    </tr>\n",
       "    <tr>\n",
       "      <th>363</th>\n",
       "      <td>USW00014898</td>\n",
       "      <td>2022-12-30</td>\n",
       "      <td>GREEN BAY</td>\n",
       "      <td>(-39, 100)</td>\n",
       "    </tr>\n",
       "    <tr>\n",
       "      <th>364</th>\n",
       "      <td>USW00014898</td>\n",
       "      <td>2022-12-31</td>\n",
       "      <td>GREEN BAY</td>\n",
       "      <td>(-44, 0)</td>\n",
       "    </tr>\n",
       "  </tbody>\n",
       "</table>\n",
       "<p>365 rows × 4 columns</p>\n",
       "</div>"
      ],
      "text/plain": [
       "              id        date                            name       record\n",
       "0    USW00014898  2022-01-01  GREEN BAY                       (-110, -32)\n",
       "1    USW00014898  2022-01-02  GREEN BAY                       (-166, -77)\n",
       "2    USW00014898  2022-01-03  GREEN BAY                       (-171, -60)\n",
       "3    USW00014898  2022-01-04  GREEN BAY                         (-116, 0)\n",
       "4    USW00014898  2022-01-05  GREEN BAY                        (-88, -16)\n",
       "..           ...         ...                             ...          ...\n",
       "360  USW00014898  2022-12-27  GREEN BAY                       (-172, -50)\n",
       "361  USW00014898  2022-12-28  GREEN BAY                         (-50, 50)\n",
       "362  USW00014898  2022-12-29  GREEN BAY                         (33, 106)\n",
       "363  USW00014898  2022-12-30  GREEN BAY                        (-39, 100)\n",
       "364  USW00014898  2022-12-31  GREEN BAY                          (-44, 0)\n",
       "\n",
       "[365 rows x 4 columns]"
      ]
     },
     "execution_count": 26,
     "metadata": {},
     "output_type": "execute_result"
    }
   ],
   "source": [
    "import pandas as pd\n",
    "pd.DataFrame(cass.execute(\"\"\"\n",
    "    SELECT *\n",
    "    FROM weather.stations\n",
    "    WHERE id = 'USW00014898'\n",
    "\"\"\"\n",
    "                         ) )"
   ]
  },
  {
   "cell_type": "code",
   "execution_count": 27,
   "id": "5760d511-aea0-4244-849d-50d8e5f18db7",
   "metadata": {},
   "outputs": [],
   "source": [
    "# Create a DataFrame that corresponds to the stations table in Cassandra\n",
    "df = spark.read.format(\"org.apache.spark.sql.cassandra\")\\\n",
    "    .option(\"spark.cassandra.connection.host\", \"p6-db-1,p6-db-2,p6-db-3\")\\\n",
    "    .option(\"keyspace\", \"weather\")\\\n",
    "    .option(\"table\", \"stations\")\\\n",
    "    .load()\n",
    "\n",
    "# Create a temporary view named stations\n",
    "df.createOrReplaceTempView(\"stations\")"
   ]
  },
  {
   "cell_type": "code",
   "execution_count": 28,
   "id": "30df610e-f4f1-4d7c-92d9-44fd0ccc1afb",
   "metadata": {},
   "outputs": [
    {
     "data": {
      "text/plain": [
       "[Table(name='stations', catalog=None, namespace=[], description=None, tableType='TEMPORARY', isTemporary=True)]"
      ]
     },
     "execution_count": 28,
     "metadata": {},
     "output_type": "execute_result"
    }
   ],
   "source": [
    "#q6\n",
    "# List the tables/views available in the Spark catalog\n",
    "tables = spark.catalog.listTables()\n",
    "tables\n",
    "# # Print the tables/views\n",
    "# for table in tables:\n",
    "#     print(table.name)"
   ]
  },
  {
   "cell_type": "code",
   "execution_count": 29,
   "id": "a8b4ed3b-2dd3-4bb0-a8ed-5b379de4b7bb",
   "metadata": {},
   "outputs": [
    {
     "name": "stderr",
     "output_type": "stream",
     "text": [
      "                                                                                \r"
     ]
    },
    {
     "data": {
      "text/plain": [
       "{'USW00014839': 89.6986301369863,\n",
       " 'USW00014837': 105.62739726027397,\n",
       " 'USR0000WDDG': 102.06849315068493,\n",
       " 'USW00014898': 102.93698630136986}"
      ]
     },
     "execution_count": 29,
     "metadata": {},
     "output_type": "execute_result"
    }
   ],
   "source": [
    "#q7\n",
    "from pyspark.sql.functions import avg\n",
    "\n",
    "# Calculate the average difference between tmax and tmin for each station\n",
    "result = spark.sql(\"\"\"\n",
    "    SELECT id, AVG(record.tmax - record.tmin) as avg_diff\n",
    "    FROM stations\n",
    "    WHERE record.tmax IS NOT NULL AND record.tmin IS NOT NULL\n",
    "    GROUP BY id\n",
    "\"\"\")\n",
    "\n",
    "# Convert the result to a dictionary\n",
    "result_dict = {row['id']: row['avg_diff'] for row in result.collect()}\n",
    "\n",
    "result_dict"
   ]
  },
  {
   "cell_type": "code",
   "execution_count": 33,
   "id": "4bc8bef6-4a07-4870-89f9-fc8a08cd7050",
   "metadata": {},
   "outputs": [
    {
     "name": "stdout",
     "output_type": "stream",
     "text": [
      "Datacenter: datacenter1\n",
      "=======================\n",
      "Status=Up/Down\n",
      "|/ State=Normal/Leaving/Joining/Moving\n",
      "--  Address       Load        Tokens  Owns (effective)  Host ID                               Rack \n",
      "DN  192.168.32.2  87.74 KiB   16      100.0%            4b1ad2cf-72ce-406f-99b6-aa3e2c96e3b5  rack1\n",
      "UN  192.168.32.4  113.21 KiB  16      100.0%            4c36c687-166a-48a7-ad61-d4ade224fc0f  rack1\n",
      "UN  192.168.32.3  87.76 KiB   16      100.0%            c18b0314-2335-41a1-8565-8a1cdb026786  rack1\n",
      "\n"
     ]
    }
   ],
   "source": [
    "#q8\n",
    "!nodetool status"
   ]
  },
  {
   "cell_type": "code",
   "execution_count": 34,
   "id": "b00a7f78-6792-4d1a-b70d-c59ec9b3a262",
   "metadata": {},
   "outputs": [
    {
     "name": "stdout",
     "output_type": "stream",
     "text": [
      "need 3 replicas, but only have 2\n"
     ]
    },
    {
     "name": "stderr",
     "output_type": "stream",
     "text": [
      "23/11/27 18:32:55 WARN ChannelPool: [s0|p6-db-2/192.168.32.2:9042]  Error while opening new channel (ConnectionInitException: [s0|connecting...] Protocol initialization request, step 1 (STARTUP {CQL_VERSION=3.0.0, DRIVER_NAME=DataStax Java driver for Apache Cassandra(R), DRIVER_VERSION=4.13.0, CLIENT_ID=9eb2ccc5-691f-4573-abe2-a985689730a5, APPLICATION_NAME=Spark-Cassandra-Connector-local-1701109790613}): failed to send request (java.nio.channels.NotYetConnectedException))\n"
     ]
    }
   ],
   "source": [
    "#q9\n",
    "# Open a gRPC channel\n",
    "channel = grpc.insecure_channel('localhost:5440')\n",
    "\n",
    "# Create a stub (client)\n",
    "stub = station_pb2_grpc.StationStub(channel)\n",
    "\n",
    "# Create a valid request message\n",
    "station_max_request = station_pb2.StationMaxRequest(station='USW00014837')\n",
    "\n",
    "# Make the call\n",
    "response = stub.StationMax(station_max_request)\n",
    "\n",
    "# Check the error message in the response\n",
    "if response.error:\n",
    "    print(response.error)\n",
    "else:\n",
    "    print(\"No error occurred.\")\n"
   ]
  },
  {
   "cell_type": "code",
   "execution_count": 35,
   "id": "2ac597df-da4d-4afc-a898-1eb4bef714c3",
   "metadata": {},
   "outputs": [
    {
     "data": {
      "text/plain": [
       "''"
      ]
     },
     "execution_count": 35,
     "metadata": {},
     "output_type": "execute_result"
    },
    {
     "name": "stderr",
     "output_type": "stream",
     "text": [
      "23/11/27 18:33:17 WARN ChannelPool: [s0|p6-db-2/192.168.32.2:9042]  Error while opening new channel (ConnectionInitException: [s0|connecting...] Protocol initialization request, step 1 (STARTUP {CQL_VERSION=3.0.0, DRIVER_NAME=DataStax Java driver for Apache Cassandra(R), DRIVER_VERSION=4.13.0, CLIENT_ID=9eb2ccc5-691f-4573-abe2-a985689730a5, APPLICATION_NAME=Spark-Cassandra-Connector-local-1701109790613}): failed to send request (com.datastax.oss.driver.shaded.netty.channel.StacklessClosedChannelException))\n"
     ]
    }
   ],
   "source": [
    "#q10\n",
    "channel = grpc.insecure_channel('localhost:5440')\n",
    "\n",
    "# Create a stub (client)\n",
    "stub = station_pb2_grpc.StationStub(channel)\n",
    "\n",
    "# Create a valid request message\n",
    "record_temps_request = station_pb2.RecordTempsRequest(\n",
    "        station=\"USTEMP\",\n",
    "        date=\"0220107\",\n",
    "        tmin=0,\n",
    "        tmax=1\n",
    ")\n",
    "\n",
    "# Make the call\n",
    "response = stub.RecordTemps(record_temps_request)\n",
    "\n",
    "response.error"
   ]
  },
  {
   "cell_type": "code",
   "execution_count": null,
   "id": "ed05a53e-9a4e-4488-8fa9-9cbc94b89329",
   "metadata": {},
   "outputs": [],
   "source": []
  },
  {
   "cell_type": "code",
   "execution_count": null,
   "id": "e4fb940f-842c-4eb6-8a2c-bccc95af416c",
   "metadata": {},
   "outputs": [],
   "source": []
  }
 ],
 "metadata": {
  "kernelspec": {
   "display_name": "Python 3 (ipykernel)",
   "language": "python",
   "name": "python3"
  },
  "language_info": {
   "codemirror_mode": {
    "name": "ipython",
    "version": 3
   },
   "file_extension": ".py",
   "mimetype": "text/x-python",
   "name": "python",
   "nbconvert_exporter": "python",
   "pygments_lexer": "ipython3",
   "version": "3.10.12"
  }
 },
 "nbformat": 4,
 "nbformat_minor": 5
}
