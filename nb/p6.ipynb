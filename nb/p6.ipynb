{
 "cells": [
  {
   "cell_type": "code",
   "execution_count": 1,
   "id": "cad81a6d-1fed-499c-9c95-fb69e89a7f27",
   "metadata": {},
   "outputs": [
    {
     "name": "stdout",
     "output_type": "stream",
     "text": [
      "Datacenter: datacenter1\n",
      "=======================\n",
      "Status=Up/Down\n",
      "|/ State=Normal/Leaving/Joining/Moving\n",
      "--  Address     Load       Tokens  Owns (effective)  Host ID                               Rack \n",
      "UN  172.21.0.4  70.26 KiB  16      68.1%             d01fe928-848d-44bc-89b6-d4278c52e0b2  rack1\n",
      "UN  172.21.0.2  70.28 KiB  16      60.8%             22c25040-5cc2-4a41-9aa0-75aa20c93ef9  rack1\n",
      "UN  172.21.0.3  70.26 KiB  16      71.0%             fe0faafc-6d38-4b16-a0e8-20d188a524f7  rack1\n",
      "\n"
     ]
    }
   ],
   "source": [
    "!nodetool status"
   ]
  },
  {
   "cell_type": "code",
   "execution_count": null,
   "id": "af822697-04aa-4fd3-8f14-e9dd8c8d86db",
   "metadata": {},
   "outputs": [],
   "source": []
  }
 ],
 "metadata": {
  "kernelspec": {
   "display_name": "Python 3 (ipykernel)",
   "language": "python",
   "name": "python3"
  },
  "language_info": {
   "codemirror_mode": {
    "name": "ipython",
    "version": 3
   },
   "file_extension": ".py",
   "mimetype": "text/x-python",
   "name": "python",
   "nbconvert_exporter": "python",
   "pygments_lexer": "ipython3",
   "version": "3.10.12"
  }
 },
 "nbformat": 4,
 "nbformat_minor": 5
}
